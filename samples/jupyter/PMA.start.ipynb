{
 "cells": [
  {
   "cell_type": "markdown",
   "metadata": {},
   "source": [
    "# Setup\n",
    "Use pip to download and install the necessary libraries if needed"
   ]
  },
  {
   "cell_type": "code",
   "execution_count": null,
   "metadata": {},
   "outputs": [],
   "source": [
    "!pip install --upgrade pma_python\n",
    "!pip install --upgrade pprint"
   ]
  },
  {
   "cell_type": "code",
   "execution_count": 1,
   "metadata": {},
   "outputs": [
    {
     "name": "stdout",
     "output_type": "stream",
     "text": [
      "pma_python library loaded; version 2.0.0.113\n"
     ]
    },
    {
     "ename": "Exception",
     "evalue": "Unable to detect PMA.start! Please start PMA.start, or download it from http://free.pathomation.com",
     "output_type": "error",
     "traceback": [
      "\u001b[1;31m---------------------------------------------------------------------------\u001b[0m",
      "\u001b[1;31mException\u001b[0m                                 Traceback (most recent call last)",
      "\u001b[1;32m<ipython-input-1-0845f411bdb7>\u001b[0m in \u001b[0;36m<module>\u001b[1;34m\u001b[0m\n\u001b[0;32m     21\u001b[0m     \u001b[0mprint\u001b[0m \u001b[1;33m(\u001b[0m\u001b[1;34m\"Connected to PMA.start\"\u001b[0m\u001b[1;33m)\u001b[0m\u001b[1;33m\u001b[0m\u001b[1;33m\u001b[0m\u001b[0m\n\u001b[0;32m     22\u001b[0m \u001b[1;32melse\u001b[0m\u001b[1;33m:\u001b[0m\u001b[1;33m\u001b[0m\u001b[1;33m\u001b[0m\u001b[0m\n\u001b[1;32m---> 23\u001b[1;33m     \u001b[1;32mraise\u001b[0m \u001b[0mException\u001b[0m\u001b[1;33m(\u001b[0m\u001b[1;34m\"Unable to detect PMA.start! Please start PMA.start, or download it from http://free.pathomation.com\"\u001b[0m\u001b[1;33m)\u001b[0m\u001b[1;33m\u001b[0m\u001b[1;33m\u001b[0m\u001b[0m\n\u001b[0m",
      "\u001b[1;31mException\u001b[0m: Unable to detect PMA.start! Please start PMA.start, or download it from http://free.pathomation.com"
     ]
    }
   ],
   "source": [
    "#\n",
    "# helper libraries\n",
    "#\n",
    "import pprint as pp    # pretty print library is better to print list and dictionary structures\n",
    "import os\n",
    "import  matplotlib.pyplot as plt\n",
    "import numpy as np\n",
    "from PIL import Image\n",
    "import pandas as pd\n",
    "\n",
    "#\n",
    "# pma_python library\n",
    "#\n",
    "from pma_python import core\n",
    "print(\"pma_python library loaded; version\", core.__version__)\n",
    "\n",
    "# connection parameters to be used throughout this notebook\n",
    "pma_start_slide_dir = \"C:/wsi\"\n",
    "\n",
    "if core.is_lite():\n",
    "    print (\"Connected to PMA.start\")\n",
    "else:\n",
    "    raise Exception(\"Unable to detect PMA.start! Please start PMA.start, or download it from http://free.pathomation.com\")"
   ]
  },
  {
   "cell_type": "code",
   "execution_count": null,
   "metadata": {},
   "outputs": [],
   "source": [
    "# only needed when debugging code for extra error messages:\n",
    "core.set_debug_flag(True)"
   ]
  },
  {
   "cell_type": "code",
   "execution_count": 2,
   "metadata": {},
   "outputs": [
    {
     "name": "stdout",
     "output_type": "stream",
     "text": [
      "dict_keys([])\n"
     ]
    }
   ],
   "source": [
    "print(core._pma_slideinfos.keys())"
   ]
  },
  {
   "cell_type": "markdown",
   "metadata": {},
   "source": [
    "# PMA.start examples\n",
    "example 10: identifying PMA.start"
   ]
  },
  {
   "cell_type": "code",
   "execution_count": 4,
   "metadata": {},
   "outputs": [
    {
     "name": "stdout",
     "output_type": "stream",
     "text": [
      "Are you running PMA.start? True\n",
      "Are you running PMA.start at https://host.pathomation.com/sandbox/2/pma.core? False\n"
     ]
    },
    {
     "ename": "JSONDecodeError",
     "evalue": "Expecting value: line 1 column 1 (char 0)",
     "output_type": "error",
     "traceback": [
      "\u001b[1;31m---------------------------------------------------------------------------\u001b[0m",
      "\u001b[1;31mJSONDecodeError\u001b[0m                           Traceback (most recent call last)",
      "\u001b[1;32m<ipython-input-4-ac86cb13df5e>\u001b[0m in \u001b[0;36m<module>\u001b[1;34m\u001b[0m\n\u001b[0;32m      8\u001b[0m \u001b[1;31m# testing against a non-existing end-point\u001b[0m\u001b[1;33m\u001b[0m\u001b[1;33m\u001b[0m\u001b[1;33m\u001b[0m\u001b[0m\n\u001b[0;32m      9\u001b[0m \u001b[0mpma_core_location\u001b[0m \u001b[1;33m=\u001b[0m \u001b[1;34m\"https://www.google.com\"\u001b[0m\u001b[1;33m\u001b[0m\u001b[1;33m\u001b[0m\u001b[0m\n\u001b[1;32m---> 10\u001b[1;33m \u001b[0mprint\u001b[0m\u001b[1;33m(\u001b[0m\u001b[1;34m\"Are you running PMA.start at \"\u001b[0m \u001b[1;33m+\u001b[0m \u001b[0mpma_core_location\u001b[0m \u001b[1;33m+\u001b[0m \u001b[1;34m\"? \"\u001b[0m \u001b[1;33m+\u001b[0m \u001b[0mstr\u001b[0m\u001b[1;33m(\u001b[0m\u001b[0mcore\u001b[0m\u001b[1;33m.\u001b[0m\u001b[0mis_lite\u001b[0m\u001b[1;33m(\u001b[0m\u001b[0mpma_core_location\u001b[0m\u001b[1;33m)\u001b[0m\u001b[1;33m)\u001b[0m\u001b[1;33m)\u001b[0m\u001b[1;33m\u001b[0m\u001b[1;33m\u001b[0m\u001b[0m\n\u001b[0m",
      "\u001b[1;32mc:\\projects\\pathomation-sdk\\version 2\\python\\pma_python\\pma_python\\core.py\u001b[0m in \u001b[0;36mis_lite\u001b[1;34m(pmacoreURL)\u001b[0m\n\u001b[0;32m    135\u001b[0m     \u001b[1;33m(\u001b[0m\u001b[0mresults\u001b[0m \u001b[1;32min\u001b[0m \u001b[1;32mNone\u001b[0m\u001b[1;33m)\u001b[0m\u001b[1;33m\u001b[0m\u001b[1;33m\u001b[0m\u001b[0m\n\u001b[0;32m    136\u001b[0m     \"\"\"\n\u001b[1;32m--> 137\u001b[1;33m     \u001b[1;32mreturn\u001b[0m \u001b[0m_pma_is_lite\u001b[0m\u001b[1;33m(\u001b[0m\u001b[0mpmacoreURL\u001b[0m\u001b[1;33m)\u001b[0m\u001b[1;33m\u001b[0m\u001b[1;33m\u001b[0m\u001b[0m\n\u001b[0m\u001b[0;32m    138\u001b[0m \u001b[1;33m\u001b[0m\u001b[0m\n\u001b[0;32m    139\u001b[0m \u001b[1;33m\u001b[0m\u001b[0m\n",
      "\u001b[1;32mc:\\projects\\pathomation-sdk\\version 2\\python\\pma_python\\pma_python\\core.py\u001b[0m in \u001b[0;36m_pma_is_lite\u001b[1;34m(pmacoreURL)\u001b[0m\n\u001b[0;32m     98\u001b[0m         \u001b[1;31m# this happens when NO instance of PMA.core is detected\u001b[0m\u001b[1;33m\u001b[0m\u001b[1;33m\u001b[0m\u001b[1;33m\u001b[0m\u001b[0m\n\u001b[0;32m     99\u001b[0m         \u001b[1;32mreturn\u001b[0m \u001b[1;32mNone\u001b[0m\u001b[1;33m\u001b[0m\u001b[1;33m\u001b[0m\u001b[0m\n\u001b[1;32m--> 100\u001b[1;33m     \u001b[0mvalue\u001b[0m \u001b[1;33m=\u001b[0m \u001b[0mr\u001b[0m\u001b[1;33m.\u001b[0m\u001b[0mjson\u001b[0m\u001b[1;33m(\u001b[0m\u001b[1;33m)\u001b[0m\u001b[1;33m\u001b[0m\u001b[1;33m\u001b[0m\u001b[0m\n\u001b[0m\u001b[0;32m    101\u001b[0m     \u001b[1;32mreturn\u001b[0m \u001b[0mvalue\u001b[0m \u001b[1;32mis\u001b[0m \u001b[1;32mTrue\u001b[0m\u001b[1;33m\u001b[0m\u001b[1;33m\u001b[0m\u001b[0m\n\u001b[0;32m    102\u001b[0m \u001b[1;33m\u001b[0m\u001b[0m\n",
      "\u001b[1;32mc:\\users\\antreas\\appdata\\local\\programs\\python\\python37\\lib\\site-packages\\requests\\models.py\u001b[0m in \u001b[0;36mjson\u001b[1;34m(self, **kwargs)\u001b[0m\n\u001b[0;32m    895\u001b[0m                     \u001b[1;31m# used.\u001b[0m\u001b[1;33m\u001b[0m\u001b[1;33m\u001b[0m\u001b[1;33m\u001b[0m\u001b[0m\n\u001b[0;32m    896\u001b[0m                     \u001b[1;32mpass\u001b[0m\u001b[1;33m\u001b[0m\u001b[1;33m\u001b[0m\u001b[0m\n\u001b[1;32m--> 897\u001b[1;33m         \u001b[1;32mreturn\u001b[0m \u001b[0mcomplexjson\u001b[0m\u001b[1;33m.\u001b[0m\u001b[0mloads\u001b[0m\u001b[1;33m(\u001b[0m\u001b[0mself\u001b[0m\u001b[1;33m.\u001b[0m\u001b[0mtext\u001b[0m\u001b[1;33m,\u001b[0m \u001b[1;33m**\u001b[0m\u001b[0mkwargs\u001b[0m\u001b[1;33m)\u001b[0m\u001b[1;33m\u001b[0m\u001b[1;33m\u001b[0m\u001b[0m\n\u001b[0m\u001b[0;32m    898\u001b[0m \u001b[1;33m\u001b[0m\u001b[0m\n\u001b[0;32m    899\u001b[0m     \u001b[1;33m@\u001b[0m\u001b[0mproperty\u001b[0m\u001b[1;33m\u001b[0m\u001b[1;33m\u001b[0m\u001b[0m\n",
      "\u001b[1;32mc:\\users\\antreas\\appdata\\local\\programs\\python\\python37\\lib\\json\\__init__.py\u001b[0m in \u001b[0;36mloads\u001b[1;34m(s, encoding, cls, object_hook, parse_float, parse_int, parse_constant, object_pairs_hook, **kw)\u001b[0m\n\u001b[0;32m    346\u001b[0m             \u001b[0mparse_int\u001b[0m \u001b[1;32mis\u001b[0m \u001b[1;32mNone\u001b[0m \u001b[1;32mand\u001b[0m \u001b[0mparse_float\u001b[0m \u001b[1;32mis\u001b[0m \u001b[1;32mNone\u001b[0m \u001b[1;32mand\u001b[0m\u001b[1;33m\u001b[0m\u001b[1;33m\u001b[0m\u001b[0m\n\u001b[0;32m    347\u001b[0m             parse_constant is None and object_pairs_hook is None and not kw):\n\u001b[1;32m--> 348\u001b[1;33m         \u001b[1;32mreturn\u001b[0m \u001b[0m_default_decoder\u001b[0m\u001b[1;33m.\u001b[0m\u001b[0mdecode\u001b[0m\u001b[1;33m(\u001b[0m\u001b[0ms\u001b[0m\u001b[1;33m)\u001b[0m\u001b[1;33m\u001b[0m\u001b[1;33m\u001b[0m\u001b[0m\n\u001b[0m\u001b[0;32m    349\u001b[0m     \u001b[1;32mif\u001b[0m \u001b[0mcls\u001b[0m \u001b[1;32mis\u001b[0m \u001b[1;32mNone\u001b[0m\u001b[1;33m:\u001b[0m\u001b[1;33m\u001b[0m\u001b[1;33m\u001b[0m\u001b[0m\n\u001b[0;32m    350\u001b[0m         \u001b[0mcls\u001b[0m \u001b[1;33m=\u001b[0m \u001b[0mJSONDecoder\u001b[0m\u001b[1;33m\u001b[0m\u001b[1;33m\u001b[0m\u001b[0m\n",
      "\u001b[1;32mc:\\users\\antreas\\appdata\\local\\programs\\python\\python37\\lib\\json\\decoder.py\u001b[0m in \u001b[0;36mdecode\u001b[1;34m(self, s, _w)\u001b[0m\n\u001b[0;32m    335\u001b[0m \u001b[1;33m\u001b[0m\u001b[0m\n\u001b[0;32m    336\u001b[0m         \"\"\"\n\u001b[1;32m--> 337\u001b[1;33m         \u001b[0mobj\u001b[0m\u001b[1;33m,\u001b[0m \u001b[0mend\u001b[0m \u001b[1;33m=\u001b[0m \u001b[0mself\u001b[0m\u001b[1;33m.\u001b[0m\u001b[0mraw_decode\u001b[0m\u001b[1;33m(\u001b[0m\u001b[0ms\u001b[0m\u001b[1;33m,\u001b[0m \u001b[0midx\u001b[0m\u001b[1;33m=\u001b[0m\u001b[0m_w\u001b[0m\u001b[1;33m(\u001b[0m\u001b[0ms\u001b[0m\u001b[1;33m,\u001b[0m \u001b[1;36m0\u001b[0m\u001b[1;33m)\u001b[0m\u001b[1;33m.\u001b[0m\u001b[0mend\u001b[0m\u001b[1;33m(\u001b[0m\u001b[1;33m)\u001b[0m\u001b[1;33m)\u001b[0m\u001b[1;33m\u001b[0m\u001b[1;33m\u001b[0m\u001b[0m\n\u001b[0m\u001b[0;32m    338\u001b[0m         \u001b[0mend\u001b[0m \u001b[1;33m=\u001b[0m \u001b[0m_w\u001b[0m\u001b[1;33m(\u001b[0m\u001b[0ms\u001b[0m\u001b[1;33m,\u001b[0m \u001b[0mend\u001b[0m\u001b[1;33m)\u001b[0m\u001b[1;33m.\u001b[0m\u001b[0mend\u001b[0m\u001b[1;33m(\u001b[0m\u001b[1;33m)\u001b[0m\u001b[1;33m\u001b[0m\u001b[1;33m\u001b[0m\u001b[0m\n\u001b[0;32m    339\u001b[0m         \u001b[1;32mif\u001b[0m \u001b[0mend\u001b[0m \u001b[1;33m!=\u001b[0m \u001b[0mlen\u001b[0m\u001b[1;33m(\u001b[0m\u001b[0ms\u001b[0m\u001b[1;33m)\u001b[0m\u001b[1;33m:\u001b[0m\u001b[1;33m\u001b[0m\u001b[1;33m\u001b[0m\u001b[0m\n",
      "\u001b[1;32mc:\\users\\antreas\\appdata\\local\\programs\\python\\python37\\lib\\json\\decoder.py\u001b[0m in \u001b[0;36mraw_decode\u001b[1;34m(self, s, idx)\u001b[0m\n\u001b[0;32m    353\u001b[0m             \u001b[0mobj\u001b[0m\u001b[1;33m,\u001b[0m \u001b[0mend\u001b[0m \u001b[1;33m=\u001b[0m \u001b[0mself\u001b[0m\u001b[1;33m.\u001b[0m\u001b[0mscan_once\u001b[0m\u001b[1;33m(\u001b[0m\u001b[0ms\u001b[0m\u001b[1;33m,\u001b[0m \u001b[0midx\u001b[0m\u001b[1;33m)\u001b[0m\u001b[1;33m\u001b[0m\u001b[1;33m\u001b[0m\u001b[0m\n\u001b[0;32m    354\u001b[0m         \u001b[1;32mexcept\u001b[0m \u001b[0mStopIteration\u001b[0m \u001b[1;32mas\u001b[0m \u001b[0merr\u001b[0m\u001b[1;33m:\u001b[0m\u001b[1;33m\u001b[0m\u001b[1;33m\u001b[0m\u001b[0m\n\u001b[1;32m--> 355\u001b[1;33m             \u001b[1;32mraise\u001b[0m \u001b[0mJSONDecodeError\u001b[0m\u001b[1;33m(\u001b[0m\u001b[1;34m\"Expecting value\"\u001b[0m\u001b[1;33m,\u001b[0m \u001b[0ms\u001b[0m\u001b[1;33m,\u001b[0m \u001b[0merr\u001b[0m\u001b[1;33m.\u001b[0m\u001b[0mvalue\u001b[0m\u001b[1;33m)\u001b[0m \u001b[1;32mfrom\u001b[0m \u001b[1;32mNone\u001b[0m\u001b[1;33m\u001b[0m\u001b[1;33m\u001b[0m\u001b[0m\n\u001b[0m\u001b[0;32m    356\u001b[0m         \u001b[1;32mreturn\u001b[0m \u001b[0mobj\u001b[0m\u001b[1;33m,\u001b[0m \u001b[0mend\u001b[0m\u001b[1;33m\u001b[0m\u001b[1;33m\u001b[0m\u001b[0m\n",
      "\u001b[1;31mJSONDecodeError\u001b[0m: Expecting value: line 1 column 1 (char 0)"
     ]
    }
   ],
   "source": [
    "# are you running PMA.start on localhost?\n",
    "print(\"Are you running PMA.start? \" + str(core.is_lite()))\n",
    "\n",
    "# testing actual \"full\" PMA.core instance that's out there\n",
    "pma_core_location = \"https://host.pathomation.com/sandbox/2/pma.core\"\n",
    "print(\"Are you running PMA.start at \" + pma_core_location + \"? \" + str(core.is_lite(pma_core_location)))\n",
    "\n",
    "# testing against a non-existing end-point\n",
    "pma_core_location = \"https://www.google.com\"\n",
    "print(\"Are you running PMA.start at \" + pma_core_location + \"? \" + str(core.is_lite(pma_core_location)))"
   ]
  },
  {
   "cell_type": "markdown",
   "metadata": {},
   "source": [
    "example 20: getting version information about PMA.start"
   ]
  },
  {
   "cell_type": "code",
   "execution_count": null,
   "metadata": {},
   "outputs": [],
   "source": [
    "# assuming we have PMA.start running; what's the version number?\n",
    "print(\"You are running PMA.start version \" + core.get_version_info())"
   ]
  },
  {
   "cell_type": "code",
   "execution_count": null,
   "metadata": {},
   "outputs": [],
   "source": [
    "version = core.get_api_version()\n",
    "pp.pprint(version)"
   ]
  },
  {
   "cell_type": "code",
   "execution_count": null,
   "metadata": {},
   "outputs": [],
   "source": [
    "core.get_api_verion_string()"
   ]
  },
  {
   "cell_type": "markdown",
   "metadata": {},
   "source": [
    "example 30: connect to PMA.start"
   ]
  },
  {
   "cell_type": "code",
   "execution_count": null,
   "metadata": {},
   "outputs": [],
   "source": [
    "sessionID = core.connect()        # no parameters needed for PMA.start\n",
    "\n",
    "if (sessionID == None):\n",
    "\tprint(\"Unable to connect to PMA.start\");\n",
    "else:\n",
    "\tprint(\"Successfully connected to PMA.start; sessionID = \", sessionID)"
   ]
  },
  {
   "cell_type": "markdown",
   "metadata": {},
   "source": [
    "example 40: getting drive letters from PMA.start"
   ]
  },
  {
   "cell_type": "code",
   "execution_count": null,
   "metadata": {},
   "outputs": [],
   "source": [
    "print(\"You have the following drives in your system: \")\n",
    "rootdirs = core.get_root_directories()\n",
    "pp.pprint(rootdirs)"
   ]
  },
  {
   "cell_type": "markdown",
   "metadata": {},
   "source": [
    "example 60: getting directories PMA.start"
   ]
  },
  {
   "cell_type": "code",
   "execution_count": null,
   "metadata": {},
   "outputs": [],
   "source": [
    "rootdirs = core.get_root_directories();\n",
    "print(\"Directories found in \", rootdirs[0],\":\")\n",
    "\n",
    "dirs = core.get_directories(rootdirs[0])\n",
    "pp.pprint(dirs)"
   ]
  },
  {
   "cell_type": "markdown",
   "metadata": {},
   "source": [
    "example 70: get first non empty directory PMA.start"
   ]
  },
  {
   "cell_type": "code",
   "execution_count": null,
   "metadata": {},
   "outputs": [],
   "source": [
    "slide_dir = core.get_first_non_empty_directory()\n",
    "print (slide_dir)"
   ]
  },
  {
   "cell_type": "markdown",
   "metadata": {},
   "source": [
    "example 80: getting slides PMA.start (recursively and non-recursively)"
   ]
  },
  {
   "cell_type": "code",
   "execution_count": null,
   "metadata": {},
   "outputs": [],
   "source": [
    "slide_dir = pma_start_slide_dir\n",
    "print(\"Looking for slides in \" + slide_dir)\n",
    "print()\n",
    "\n",
    "print (\"**Non-recursive:\")\n",
    "print(core.get_slides(slide_dir))\n",
    "\n",
    "print (\"\\n**One-level deep recursion:\")\n",
    "print(core.get_slides(slide_dir, recursive = 1))\n",
    "\n",
    "print (\"\\n**Full recursion:\")\n",
    "print(core.get_slides(slide_dir, recursive = True))\n"
   ]
  },
  {
   "cell_type": "markdown",
   "metadata": {},
   "source": [
    "example 90: get UID for a slide in PMA.start"
   ]
  },
  {
   "cell_type": "code",
   "execution_count": null,
   "metadata": {},
   "outputs": [],
   "source": [
    "slide_dir = pma_start_slide_dir\n",
    "\n",
    "print(\"Looking for slides in \" + slide_dir)\n",
    "print()\n",
    "\n",
    "for slide in core.get_slides(slide_dir):\n",
    "\tprint (slide,\" - \", core.get_uid(slide))"
   ]
  },
  {
   "cell_type": "markdown",
   "metadata": {},
   "source": [
    "example 100: get fingerprint for a slide in PMA.start"
   ]
  },
  {
   "cell_type": "code",
   "execution_count": null,
   "metadata": {},
   "outputs": [],
   "source": [
    "slide_dir = pma_start_slide_dir\n",
    "\n",
    "print(\"Looking for slides in \" + slide_dir)\n",
    "print()\n",
    "\n",
    "for slide in core.get_slides(slide_dir):\n",
    "\tprint (slide,\" - \", core.get_fingerprint(slide))"
   ]
  },
  {
   "cell_type": "markdown",
   "metadata": {},
   "source": [
    "example 110: SlideInfo PMA.start"
   ]
  },
  {
   "cell_type": "code",
   "execution_count": null,
   "metadata": {},
   "outputs": [],
   "source": [
    "slide_dir = pma_start_slide_dir\n",
    "print(\"Looking for slides in\", slide_dir)\n",
    "print()\n",
    "\n",
    "for slide in core.get_slides(slide_dir):\n",
    "    print(\"***\", slide)\n",
    "    try:\n",
    "        pp.pprint(core.get_slide_info(slide))\n",
    "    except:\n",
    "        print(\"**Unable to get slide info from this one\")"
   ]
  },
  {
   "cell_type": "markdown",
   "metadata": {},
   "source": [
    "example 115: SlideInfo on an empty file PMA.start"
   ]
  },
  {
   "cell_type": "code",
   "execution_count": null,
   "metadata": {},
   "outputs": [],
   "source": [
    "slide_path = (os.getcwd() + \"\\\\\").replace(\"\\\\\\\\\", \"\\\\\") + \"temp.ndpi\"\n",
    "open(slide_path, 'a').close()\n",
    "print(\"Created\", slide_path)\n",
    "translated_path = slide_path.replace(\"\\\\\", \"/\")\n",
    "print(\"Getting info on\", translated_path)\n",
    "core.get_slide_info(translated_path)\n",
    "os.remove(slide_path)"
   ]
  },
  {
   "cell_type": "markdown",
   "metadata": {},
   "source": [
    "example 120: slide dimensions PMA.start"
   ]
  },
  {
   "cell_type": "code",
   "execution_count": null,
   "metadata": {},
   "outputs": [],
   "source": [
    "for slide in core.get_slides(pma_start_slide_dir):\n",
    "    print(\"[\" + slide + \"]\")\n",
    "    try:\n",
    "        xdim_pix, ydim_pix = core.get_pixel_dimensions(slide)\n",
    "        xdim_phys, ydim_phys = core.get_physical_dimensions(slide)\n",
    "\n",
    "        print(\"Pixel dimensions of slide: \", end=\"\")\n",
    "        print(xdim_pix, \"x\", ydim_pix)\n",
    "\n",
    "        print(\"Slide surface area represented by image: \", end=\"\")\n",
    "        print(str(xdim_phys) + \"µm x \" + str(ydim_phys) + \"µm = \", end=\"\")\n",
    "        print(xdim_phys * ydim_phys / 1E6, \" mm2\")\n",
    "        \n",
    "    except:\n",
    "        print(\"**Unable to parse\", slide)"
   ]
  },
  {
   "cell_type": "markdown",
   "metadata": {},
   "source": [
    "example 130: get all files that make up a particular slide"
   ]
  },
  {
   "cell_type": "code",
   "execution_count": null,
   "metadata": {},
   "outputs": [],
   "source": [
    "for slide in core.get_slides(pma_start_slide_dir):\n",
    "    print(slide);\n",
    "    pp.pprint(core.get_files_for_slide(slide))"
   ]
  },
  {
   "cell_type": "markdown",
   "metadata": {},
   "source": [
    "example 140: who are you in PMA.start"
   ]
  },
  {
   "cell_type": "code",
   "execution_count": null,
   "metadata": {},
   "outputs": [],
   "source": [
    "core.who_am_i()"
   ]
  },
  {
   "cell_type": "markdown",
   "metadata": {},
   "source": [
    "example 150: investigate zoomlevels PMA.start"
   ]
  },
  {
   "cell_type": "code",
   "execution_count": null,
   "metadata": {},
   "outputs": [],
   "source": [
    "for slide in core.get_slides(pma_start_slide_dir):\n",
    "    print(\"***\", slide)\n",
    "    print(\"  max zoomlevel:\", core.get_max_zoomlevel(slide))\n",
    "    print(\"  zoomlevel list:\")\n",
    "    pp.pprint(core.get_zoomlevels_list(slide))\n",
    "    print(\"  zoomlevel dictionary:\")\n",
    "    pp.pprint(core.get_zoomlevels_dict(slide))"
   ]
  },
  {
   "cell_type": "markdown",
   "metadata": {},
   "source": [
    "example 160: investigate magnification characteristics PMA.start"
   ]
  },
  {
   "cell_type": "code",
   "execution_count": null,
   "metadata": {},
   "outputs": [],
   "source": [
    "slide_dir = pma_start_slide_dir\n",
    "\n",
    "slide_infos = []     # create blank list (to be converted into a pandas DataFrame later)\n",
    "\n",
    "for slide in core.get_slides(slide_dir):\n",
    "\tdict = {\n",
    "\t\t\"slide\": core.get_slide_file_name(slide),\n",
    "\t\t\"approx_mag\": core.get_magnification(slide, exact=False),\n",
    "\t\t\"exact_mag\": core.get_magnification(slide, exact=True),\n",
    "\t\t\"is_fluo\": core.is_fluorescent(slide),\n",
    "\t\t\"is_zstack\": core.is_z_stack(slide)\n",
    "\t\t}\n",
    "\tslide_infos.append(dict)\n",
    "\t\n",
    "df_slides = pd.DataFrame(slide_infos, columns=[\"slide\",\"approx_mag\",\"exact_mag\", \"is_fluo\", \"is_zstack\"])\n",
    "print(df_slides)    "
   ]
  },
  {
   "cell_type": "markdown",
   "metadata": {},
   "source": [
    "example 170: get barcode from slide in PMA.start"
   ]
  },
  {
   "cell_type": "code",
   "execution_count": null,
   "metadata": {},
   "outputs": [],
   "source": [
    "for slide in core.get_slides(pma_start_slide_dir, recursive=True):\n",
    "    try:\n",
    "        print(slide, \" - \", core.get_barcode_text(slide))\n",
    "    except:\n",
    "        print(\"*Skipping\", slide)"
   ]
  },
  {
   "cell_type": "markdown",
   "metadata": {},
   "source": [
    "example 180: show a slide through PMA.start"
   ]
  },
  {
   "cell_type": "code",
   "execution_count": null,
   "metadata": {},
   "outputs": [],
   "source": [
    "slides = core.get_slides(pma_start_slide_dir)\n",
    "print(slides[0])\n",
    "core.show_slide(slides[0])"
   ]
  },
  {
   "cell_type": "markdown",
   "metadata": {},
   "source": [
    "example 190: slide label (URL) in PMA.start"
   ]
  },
  {
   "cell_type": "code",
   "execution_count": null,
   "metadata": {},
   "outputs": [],
   "source": [
    "all_slides = core.get_slides(pma_start_slide_dir)\n",
    "for sl in all_slides:\n",
    "    print(core.get_label_url(sl))\n",
    "plt.subplot(1, 2, 1)\n",
    "plt.imshow(core.get_label_image(all_slides[0]))\n",
    "plt.subplot(1, 2, 2)\n",
    "plt.imshow(core.get_label_image(all_slides[1]))"
   ]
  },
  {
   "cell_type": "markdown",
   "metadata": {},
   "source": [
    "example 200: slide label (URL) in PMA.start (using barcode alias methods)"
   ]
  },
  {
   "cell_type": "code",
   "execution_count": null,
   "metadata": {},
   "outputs": [],
   "source": [
    "all_slides = core.get_slides(pma_start_slide_dir)\n",
    "for sl in all_slides:\n",
    "    print(core.get_barcode_url(sl))\n",
    "plt.subplot(1, 2, 1)\n",
    "plt.imshow(core.get_barcode_image(all_slides[0]))\n",
    "plt.subplot(1, 2, 2)\n",
    "plt.imshow(core.get_barcode_image(all_slides[1]))"
   ]
  },
  {
   "cell_type": "markdown",
   "metadata": {},
   "source": [
    "example 210: thumbnail URL and image"
   ]
  },
  {
   "cell_type": "code",
   "execution_count": null,
   "metadata": {},
   "outputs": [],
   "source": [
    "all_slides = core.get_slides(pma_start_slide_dir)\n",
    "for sl in all_slides:\n",
    "    print(core.get_thumbnail_url(sl))\n",
    "plt.subplot(1, 2, 1)\n",
    "plt.imshow(core.get_thumbnail_image(all_slides[0]))\n",
    "plt.subplot(1, 2, 2)\n",
    "plt.imshow(core.get_thumbnail_image(all_slides[1]))"
   ]
  },
  {
   "cell_type": "markdown",
   "metadata": {},
   "source": [
    "Example 220: retrieving individual tiles in PMA.start"
   ]
  },
  {
   "cell_type": "code",
   "execution_count": null,
   "metadata": {},
   "outputs": [],
   "source": [
    "slides = core.get_slides(pma_start_slide_dir)\n",
    "slide = slides[0]\n",
    "for zl in range(0, core.get_max_zoomlevel(slide)):\n",
    "    (x, y, tot) = core.get_number_of_tiles(slide, zl)\n",
    "    if tot > 16 and x >= 4 and y >= 4:\n",
    "        break\n",
    "for i in range(1,17):\n",
    "    plt.subplot(4, 4, i)\n",
    "    xr = 1 + (i-1) % 4\n",
    "    yr = int((i-1) / 4) + 1\n",
    "    tile = core.get_tile(slide, xr, yr, zl)\n",
    "    plt.imshow(tile)"
   ]
  },
  {
   "cell_type": "markdown",
   "metadata": {},
   "source": [
    "example 230: searching for slides in PMA.start"
   ]
  },
  {
   "cell_type": "code",
   "execution_count": null,
   "metadata": {},
   "outputs": [],
   "source": [
    "slides = core.search_slides(pma_start_slide_dir, \"mrxs\")\n",
    "pp.pprint(slides)"
   ]
  },
  {
   "cell_type": "markdown",
   "metadata": {},
   "source": [
    "example 240: search for folders in PMA.start"
   ]
  },
  {
   "cell_type": "code",
   "execution_count": null,
   "metadata": {},
   "outputs": [],
   "source": [
    "slides = core.search_slides(pma_start_slide_dir, \"bladder\")\n",
    "pp.pprint(slides)"
   ]
  }
 ],
 "metadata": {
  "kernelspec": {
   "display_name": "Python 3",
   "language": "python",
   "name": "python3"
  },
  "language_info": {
   "codemirror_mode": {
    "name": "ipython",
    "version": 3
   },
   "file_extension": ".py",
   "mimetype": "text/x-python",
   "name": "python",
   "nbconvert_exporter": "python",
   "pygments_lexer": "ipython3",
   "version": "3.7.2"
  }
 },
 "nbformat": 4,
 "nbformat_minor": 2
}
