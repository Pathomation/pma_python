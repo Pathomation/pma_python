{
 "cells": [
  {
   "cell_type": "markdown",
   "metadata": {},
   "source": [
    "# Setup"
   ]
  },
  {
   "cell_type": "markdown",
   "metadata": {},
   "source": [
    "Use pip to download and install the necessary libraries if needed"
   ]
  },
  {
   "cell_type": "code",
   "execution_count": null,
   "metadata": {},
   "outputs": [],
   "source": [
    "!pip install --upgrade pma_python\n",
    "!pip install --upgrade pprint"
   ]
  },
  {
   "cell_type": "markdown",
   "metadata": {},
   "source": [
    "Import libraries and set connection parameters"
   ]
  },
  {
   "cell_type": "code",
   "execution_count": null,
   "metadata": {},
   "outputs": [],
   "source": [
    "# helper libraries\n",
    "import pprint as pp    # pretty print library is better to print list and dictionary structures\n",
    "import random\n",
    "\n",
    "# pma_python\n",
    "from pma_python import core_admin as ca\n",
    "from pma_python import core\n",
    "print(\"pma_python library loaded; version\", core.__version__)\n",
    "\n",
    "# connection parameters to be used throughout this notebook\n",
    "pma_core_server = \"https://host.pathomation.com/sandbox/2/PMA.core/\"\n",
    "pma_core_user = \"user1\"\n",
    "pma_core_pass = \"Pathomation\"\n",
    "pma_core_slide_dir = \"hgx_cases\"\n",
    "\n",
    "local_path = \"\"\n",
    "s3_key = \"\"\n",
    "s3_secret = \"\"\n",
    "s3_path = \"\"\n",
    "\n",
    "if not core.is_lite(pma_core_server):\n",
    "    print (\"PMA.core found. Good\")\n",
    "else:\n",
    "    raise Exception(\"Unable to detect PMA.core! Please update configuration parameters in this block\")"
   ]
  },
  {
   "cell_type": "code",
   "execution_count": null,
   "metadata": {},
   "outputs": [],
   "source": [
    "# only needed when debugging code for extra error messages:\n",
    "ca.set_debug_flag(True)"
   ]
  },
  {
   "cell_type": "markdown",
   "metadata": {},
   "source": [
    "# PMA.core administration examples"
   ]
  },
  {
   "cell_type": "markdown",
   "metadata": {},
   "source": [
    "Example 500: admin connect"
   ]
  },
  {
   "cell_type": "code",
   "execution_count": null,
   "metadata": {},
   "outputs": [],
   "source": [
    "print(\"Logging in with an 'administrative' user account\")\n",
    "sessionID = ca.admin_connect(pma_core_server, pma_core_user, pma_core_pass)\n",
    "print(\"Administrative SessionID\", sessionID)"
   ]
  },
  {
   "cell_type": "markdown",
   "metadata": {},
   "source": [
    "Example 510: add user"
   ]
  },
  {
   "cell_type": "code",
   "execution_count": null,
   "metadata": {},
   "outputs": [],
   "source": [
    "new_user = \"user\" + str(random.randint(10,100))\n",
    "new_pass = \"pass\" + str(random.randint(10,100))\n",
    "\n",
    "user = ca.add_user(sessionID, new_user, \"John\", \"Doe\", new_user+\"@doe.family\", new_pass);\n",
    "print(user)\n",
    "new_session = core.connect(pma_core_server, new_user, new_pass);\n",
    "print (\"SessionID obtained for\", new_user, \":\", new_session)"
   ]
  },
  {
   "cell_type": "markdown",
   "metadata": {},
   "source": [
    "Example 520: user exists"
   ]
  },
  {
   "cell_type": "code",
   "execution_count": null,
   "metadata": {},
   "outputs": [],
   "source": []
  },
  {
   "cell_type": "code",
   "execution_count": null,
   "metadata": {},
   "outputs": [],
   "source": []
  }
 ],
 "metadata": {
  "kernelspec": {
   "display_name": "Python 3",
   "language": "python",
   "name": "python3"
  },
  "language_info": {
   "codemirror_mode": {
    "name": "ipython",
    "version": 3
   },
   "file_extension": ".py",
   "mimetype": "text/x-python",
   "name": "python",
   "nbconvert_exporter": "python",
   "pygments_lexer": "ipython3",
   "version": "3.7.2"
  }
 },
 "nbformat": 4,
 "nbformat_minor": 2
}
