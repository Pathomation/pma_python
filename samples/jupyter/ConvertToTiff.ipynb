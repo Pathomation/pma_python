{
 "cells": [
  {
   "cell_type": "markdown",
   "metadata": {},
   "source": [
    "Download the required GDAL package from the [Unofficial Windows Binaries for Python Extension Packages](https://www.lfd.uci.edu/~gohlke/pythonlibs/)"
   ]
  },
  {
   "cell_type": "code",
   "execution_count": null,
   "metadata": {},
   "outputs": [],
   "source": [
    "import sys\n",
    "is_64bits = sys.maxsize > 2**32\n",
    "gdalDownloadLink = \"https://download.lfd.uci.edu/pythonlibs/s2jqpv5t/GDAL-3.0.4-cp{0}-cp{0}m-{1}.whl\".format(str(sys.version_info.major) + str(sys.version_info.minor), \"win_amd64\" if is_64bits else \"win32\")\n",
    "!pip install {gdalDownloadLink}"
   ]
  },
  {
   "cell_type": "code",
   "execution_count": null,
   "metadata": {},
   "outputs": [],
   "source": [
    "from pma_python import *\n",
    "import os\n",
    "import numpy as np\n",
    "from osgeo import gdal\n",
    "import math\n",
    "import tqdm\n",
    "\n",
    "_pmaCoreUrl = \"http://localhost:54001/\"\n",
    "\n",
    "# what slide do you want to convert?\n",
    "slidePath = \"C:/Slides/Slide.svs\"\n",
    "# set the target TIFF quality 0-100\n",
    "target_quality = 100\n",
    "# set the target scale factor to download. One of [1, 2, 4, 8, 16, 32, 64, 128]\n",
    "downscale_factor = 1"
   ]
  },
  {
   "cell_type": "markdown",
   "metadata": {},
   "source": [
    "Get the slide information and information about each zoomlevel available"
   ]
  },
  {
   "cell_type": "code",
   "execution_count": null,
   "metadata": {},
   "outputs": [],
   "source": [
    "print(\"Fetching image info for {0}\".format(slidePath))\n",
    "slideInfo = core.get_slide_info(slidePath)\n",
    "print(slideInfo)\n",
    "zoomLevelsInfo = core.get_zoomlevels_dict(slidePath)\n",
    "maxLevel = max(zoomLevelsInfo)\n",
    "tileSize = slideInfo[\"TileSize\"]\n",
    "print(\"Horizontal Tiles | Vertical Tiles | Total Tiles\")\n",
    "for level in zoomLevelsInfo:\n",
    "    tilesX, tilesY, totalTiles = zoomLevelsInfo[level]\n",
    "    print(\"{:>16} |{:>15} |{:>12}\".format(tilesX, tilesY, totalTiles))\n",
    "\n",
    "filename = slidePath.rpartition(\"/\")[-1]\n",
    "xresolution = 10000 / slideInfo[\"MicrometresPerPixelX\"]\n",
    "yresolution = 10000 / slideInfo[\"MicrometresPerPixelY\"]\n"
   ]
  },
  {
   "cell_type": "code",
   "execution_count": null,
   "metadata": {},
   "outputs": [],
   "source": [
    "filename"
   ]
  },
  {
   "cell_type": "markdown",
   "metadata": {},
   "source": [
    "Create new TIFF file using the GDAL TIFF driver\n",
    "The width and height of the final tiff is based on number of tiles horizontally and vertically."
   ]
  },
  {
   "cell_type": "code",
   "execution_count": null,
   "metadata": {},
   "outputs": [],
   "source": [
    "# Validate the parameters\n",
    "if target_quality is None or target_quality < 0 or target_quality > 90:\n",
    "    target_quality = 80\n",
    "if downscale_factor not in [1, 2, 4, 8, 16, 32, 64, 128]:\n",
    "    downscale_factor = 1"
   ]
  },
  {
   "cell_type": "code",
   "execution_count": null,
   "metadata": {},
   "outputs": [],
   "source": [
    "maxLevel = max(zoomLevelsInfo)\n",
    "powerof2 = int(math.log2(downscale_factor))\n",
    "\n",
    "level = maxLevel - powerof2\n",
    "level = min(max(level, 0), maxLevel)\n",
    "tilesX, tilesY, totalTiles = zoomLevelsInfo[level]\n",
    "\n",
    "# We set the region of the image we want to read to set the final tif size accordingly\n",
    "tileRegionX = (0, tilesX)\n",
    "tileRegionY = (0, tilesY)\n",
    "\n",
    "tileSize = 512\n",
    "tiff_drv = gdal.GetDriverByName(\"GTiff\")\n",
    "# Set the final size\n",
    "ds = tiff_drv.Create(\n",
    "    filename.split('.')[0] + '.tif',\n",
    "    int((tileRegionX[1] - tileRegionX[0]) * 512),\n",
    "    int((tileRegionY[1] - tileRegionY[0]) * 512),\n",
    "    3,\n",
    "    options=['BIGTIFF=YES',\n",
    "        'COMPRESS=JPEG', 'TILED=YES', 'BLOCKXSIZE=' + str(tileSize), 'BLOCKYSIZE=' + str(tileSize),\n",
    "        'JPEG_QUALITY=90', 'PHOTOMETRIC=RGB'\n",
    "    ])\n",
    "descr = \"ImageJ=\\nhyperstack=true\\nimages=1\\nchannels=1\\nslices=1\\nframes=1\"\n",
    "ds.SetMetadata({ 'TIFFTAG_RESOLUTIONUNIT': '3', 'TIFFTAG_XRESOLUTION': str(int(xresolution / downscale_factor)), 'TIFFTAG_YRESOLUTION': str(int(yresolution / downscale_factor)), 'TIFFTAG_IMAGEDESCRIPTION': descr })"
   ]
  },
  {
   "cell_type": "code",
   "execution_count": null,
   "metadata": {},
   "outputs": [],
   "source": [
    "print(\"Maximum level = \", maxLevel, \", level = \", level, \", power of 2 = \", powerof2)"
   ]
  },
  {
   "cell_type": "code",
   "execution_count": null,
   "metadata": {},
   "outputs": [],
   "source": [
    "filename.split('.')[0] + '.tif'"
   ]
  },
  {
   "cell_type": "markdown",
   "metadata": {},
   "source": [
    "We read each tile of the final zoomlevel (1:1 resolution) from the server and write it to the resulting TIFF file\n",
    "Then we create the pyramid of the file using BuildOverviews function of GDAL"
   ]
  },
  {
   "cell_type": "code",
   "execution_count": null,
   "metadata": {},
   "outputs": [],
   "source": [
    "tilesX, tilesY, totalTiles = zoomLevelsInfo[level]\n",
    "print(\"Requesting level {}\".format(level))\n",
    "pbar = tqdm.tqdm(total= int((tileRegionX[1] - tileRegionX[0])*(tileRegionY[1] - tileRegionY[0]))) \n",
    "for x in range(tileRegionX[0], tileRegionX[1]):\n",
    "    for y in range(tileRegionY[0],tileRegionY[1], 1):  # range of y-axis in which we are interested for this slide\n",
    "        pbar.update()\n",
    "        tile = core.get_tile(slidePath, x, y , level, quality=target_quality)\n",
    "        arr = np.array(tile, np.uint8)\n",
    "\n",
    "        # calculate startx starty pixel coordinates based on tile indexes (x,y)\n",
    "        # for the final tif we want the first tile, i.e. (tileRegionX[0], tileRegionY[0]) ,to be at (0,0) so we need to transform the coordinates\n",
    "        sx = (x - tileRegionX[0]) * tileSize\n",
    "        sy = (y - tileRegionY[0]) * tileSize\n",
    "\n",
    "        ds.GetRasterBand(1).WriteArray(arr[..., 0], sx, sy)\n",
    "        ds.GetRasterBand(2).WriteArray(arr[..., 1], sx, sy)\n",
    "        ds.GetRasterBand(3).WriteArray(arr[..., 2], sx, sy)\n",
    "\n",
    "pbar.close()\n",
    "print(\"Please wait while building the pyramid\")\n",
    "ds.BuildOverviews('average', [pow(2, l) for l in range(1, level)])\n",
    "ds = None\n",
    "print(\"Done\")"
   ]
  }
 ],
 "metadata": {
  "file_extension": ".py",
  "kernelspec": {
   "display_name": "Python 3",
   "language": "python",
   "name": "python3"
  },
  "language_info": {
   "codemirror_mode": {
    "name": "ipython",
    "version": 3
   },
   "file_extension": ".py",
   "mimetype": "text/x-python",
   "name": "python",
   "nbconvert_exporter": "python",
   "pygments_lexer": "ipython3",
   "version": "3.8.3-final"
  },
  "mimetype": "text/x-python",
  "name": "python",
  "npconvert_exporter": "python",
  "pygments_lexer": "ipython3",
  "version": 3
 },
 "nbformat": 4,
 "nbformat_minor": 2
}