{
 "cells": [
  {
   "cell_type": "markdown",
   "metadata": {},
   "source": [
    "# Setup"
   ]
  },
  {
   "cell_type": "markdown",
   "metadata": {},
   "source": [
    "Use pip to download and install the necessary libraries if needed"
   ]
  },
  {
   "cell_type": "code",
   "execution_count": null,
   "metadata": {},
   "outputs": [],
   "source": [
    "!pip install --upgrade pma_python"
   ]
  },
  {
   "cell_type": "markdown",
   "metadata": {},
   "source": [
    "Import libraries and set connection parameters"
   ]
  },
  {
   "cell_type": "code",
   "execution_count": 1,
   "metadata": {},
   "outputs": [
    {
     "name": "stdout",
     "output_type": "stream",
     "text": [
      "pma_python library loaded; version 2.0.0.113\n"
     ]
    }
   ],
   "source": [
    "# helper libraries\n",
    "\n",
    "# pma_python\n",
    "from pma_python import view\n",
    "print(\"pma_python library loaded; version\", view.__version__)\n",
    "\n",
    "# connection parameters to be used throughout this notebook\n",
    "pma_view_server = \"http://host.pathomation.com/sandbox/2/PMA.view\""
   ]
  },
  {
   "cell_type": "code",
   "execution_count": 2,
   "metadata": {},
   "outputs": [],
   "source": [
    "# only needed when debugging code for extra error messages:\n",
    "view.set_debug_flag(False)"
   ]
  },
  {
   "cell_type": "markdown",
   "metadata": {},
   "source": [
    "# PMA.view examples"
   ]
  },
  {
   "cell_type": "markdown",
   "metadata": {},
   "source": [
    "example 2020: getting version information about PMA.view"
   ]
  },
  {
   "cell_type": "code",
   "execution_count": null,
   "metadata": {},
   "outputs": [
    {
     "name": "stdout",
     "output_type": "stream",
     "text": [
      "Investigating http://host.pathomation.com/sandbox/2/PMA.view\n",
      "You are running PMA.view version 2.0.0.788\n"
     ]
    }
   ],
   "source": [
    "# assuming we have PMA.view running; what's the version number?\n",
    "print(\"Investigating\", pma_view_server)\n",
    "print(\"You are running PMA.view version\", view.get_version_info(pma_view_server))\n",
    "\n",
    "#ERROR: the following statement should return None instead of crashing\n",
    "version = view.get_version_info(\"http://nowhere\");\n",
    "print (version)\n",
    "if (version == None):\n",
    "\tprint(\"Unable to detect PMA.view at specified location (http://nowhere/)\")\n",
    "else:\n",
    "\tprint(\"You are running PMA.view version\", version);"
   ]
  },
  {
   "cell_type": "code",
   "execution_count": null,
   "metadata": {},
   "outputs": [],
   "source": []
  }
 ],
 "metadata": {
  "file_extension": ".py",
  "kernelspec": {
   "display_name": "Python 3",
   "language": "python",
   "name": "python3"
  },
  "language_info": {
   "codemirror_mode": {
    "name": "ipython",
    "version": 3
   },
   "file_extension": ".py",
   "mimetype": "text/x-python",
   "name": "python",
   "nbconvert_exporter": "python",
   "pygments_lexer": "ipython3",
   "version": "3.7.2"
  },
  "mimetype": "text/x-python",
  "name": "python",
  "npconvert_exporter": "python",
  "pygments_lexer": "ipython3",
  "version": 3
 },
 "nbformat": 4,
 "nbformat_minor": 2
}
